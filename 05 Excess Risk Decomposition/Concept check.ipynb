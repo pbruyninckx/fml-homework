{
 "cells": [
  {
   "cell_type": "markdown",
   "metadata": {},
   "source": [
    "# Excess Risk Decomposition\n",
    "\n",
    "## Notes to self: Excess risk theory reminder\n",
    "\n",
    "Ideally we'd like to find the Bayes decision function that minimises risk\n",
    "$$\n",
    "f^* = \\arg \\min_f \\mathbb E(l(x | y))\n",
    "$$\n",
    "\n",
    "However to keep optimisation feasible (and add some regularisation) we only look for functions within an hypothesis space $\\mathbb F$.\n",
    "$$\n",
    "f^\\mathbb F = \\arg \\min_{f \\in \\mathbb F} \\mathbb E (l(x | y))\n",
    "$$\n",
    "\n",
    "The difference between these is the **approximation error**\n",
    "$$\n",
    "R(f^\\mathbb F) - R(f^*)\n",
    "$$\n",
    "\n",
    "However in general we can't compute $f^\\mathbb F$, as we only have a limited number of data. As such we can only compute the **empirical risk minimiser**\n",
    "$$\n",
    "\\hat{f_n} = \\arg \\min \\frac{1}{n} \\sum_{i=1}^n l\\left(f(x_i), y_i\\right)\n",
    "$$\n",
    "\n",
    "This introduces the **estimation error**.\n",
    "$$\n",
    "R(\\hat{f_n}) - R(f^\\mathbb F)\n",
    "$$\n",
    "\n",
    "However, because when trying to find $\\hat{f_n}$, the optimisation algorithm doesn't give the perfect result, but it yields a result $\\tilde{f_n}$. Thus we also get an **optimisation error**\n",
    "$$\n",
    "R(\\tilde{f_n}) - R(\\hat{f_n})\n",
    "$$\n",
    "\n",
    "The **Excess Risk** is the difference between the final risk, and the risk of the Bayes decision function\n",
    "$$\n",
    "R(\\tilde{f_n}) - R(f^*) \\\\\n",
    "= \\underbrace{R(f^\\mathbb F) - R(f^*)}_{\\text{Approximation Error}} \n",
    "  + \\underbrace{R(\\hat{f_n}) - R(f^\\mathbb F)}_{\\text{Estimation Error}}\n",
    "  + \\underbrace{R(\\tilde{f_n}) - R(\\hat{f_n})}_{\\text{Optimisation Error}}\n",
    "$$\n",
    "\n",
    "### Some notes\n",
    "\n",
    "* The approximation error and the estimation error are always positive.\n",
    "* The optimisation error could be negative\n",
    "* If the approximation error and estimation error dominate the optimisation error (which seems to be quite often the case),\n",
    "  there is no point in using advanced optimisation methods to minimise the optimisation error,\n",
    "  as it will have a negligable effect on the total excess risk."
   ]
  }
 ],
 "metadata": {
  "kernelspec": {
   "display_name": "Python 3",
   "language": "python",
   "name": "python3"
  },
  "language_info": {
   "codemirror_mode": {
    "name": "ipython",
    "version": 3
   },
   "file_extension": ".py",
   "mimetype": "text/x-python",
   "name": "python",
   "nbconvert_exporter": "python",
   "pygments_lexer": "ipython3",
   "version": "3.8.3"
  }
 },
 "nbformat": 4,
 "nbformat_minor": 4
}
