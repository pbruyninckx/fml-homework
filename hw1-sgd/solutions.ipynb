{
 "cells": [
  {
   "cell_type": "markdown",
   "metadata": {},
   "source": [
    "# Homework 1: Ridge Regression, Gradient Descent, and SGD"
   ]
  },
  {
   "cell_type": "markdown",
   "metadata": {},
   "source": [
    "## 2 Linear Regression\n",
    "### 2.2 Gradient Descent Setup\n",
    "\n",
    "#### 1. Objective Function\n",
    "$$ J(\\theta) = \\frac{1}{m} \\left( X \\theta - y \\right)^T \\left( X \\theta - y \\right) $$\n",
    "#### 2. Gradient of $J$\n",
    "$$ \\nabla J(\\theta) = \\frac{2}{m} X^T(X\\theta-y) $$\n",
    "#### 3. Approximate change in objective function\n",
    "$$ J(\\theta + \\eta h) - J(\\theta) \\approx - \\eta \\nabla J(\\theta)^T \\nabla J(\\theta)$$\n",
    "#### 4. Update $\\theta$\n",
    "$$ \n",
    "\\begin{align}\n",
    "\\theta & \\leftarrow \\theta + \\eta h \\\\\n",
    "& = \\theta - \\eta \\nabla J(\\theta)\n",
    "\\end{align}\n",
    "$$"
   ]
  },
  {
   "cell_type": "markdown",
   "metadata": {},
   "source": [
    "### 2.4 Batch Gradient Descent\n",
    "#### 2 Experiment with step size\n",
    "![Loss function evolution with different step sizes](loss_different_step_sizes.svg)\n",
    "\n",
    "As the plot shows, the loss function diverges for the selected values where $\\eta > 0.05$. It converges for smaller values of $\\eta$, although when $\\eta$ gets smaller, the convergion happens slower."
   ]
  }
 ],
 "metadata": {
  "kernelspec": {
   "display_name": "Python 3",
   "language": "python",
   "name": "python3"
  },
  "language_info": {
   "codemirror_mode": {
    "name": "ipython",
    "version": 3
   },
   "file_extension": ".py",
   "mimetype": "text/x-python",
   "name": "python",
   "nbconvert_exporter": "python",
   "pygments_lexer": "ipython3",
   "version": "3.8.3"
  }
 },
 "nbformat": 4,
 "nbformat_minor": 4
}
